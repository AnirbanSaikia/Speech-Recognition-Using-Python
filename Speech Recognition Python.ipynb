{
 "cells": [
  {
   "cell_type": "code",
   "execution_count": 2,
   "metadata": {},
   "outputs": [
    {
     "name": "stdout",
     "output_type": "stream",
     "text": [
      "Speak: \n",
      "You said:  we have done Speech Recognition using Python and we have done speech to text conversion\n"
     ]
    }
   ],
   "source": [
    "import speech_recognition as sr\n",
    "\n",
    "r = sr.Recognizer()\n",
    "with sr.Microphone() as source:\n",
    "    print(\"Speak: \")\n",
    "    audio = r.listen(source)\n",
    "    \n",
    "try:\n",
    "    txt = r.recognize_google(audio)\n",
    "    print(\"You said: \", txt)\n",
    "except sr.UnknownValueError:\n",
    "    print(\"Could not understand audio \")\n",
    "except sr.RequestError as e:\n",
    "    print(\"Could not request results; (0)\".format(e))"
   ]
  },
  {
   "cell_type": "code",
   "execution_count": 36,
   "metadata": {},
   "outputs": [
    {
     "name": "stdout",
     "output_type": "stream",
     "text": [
      "Speak Now - Addition / Subtract / Multiply / Division with Two Numbers\n",
      "Ex - Add 5 And 3\n",
      "You Speak:  division 399 and 16\n",
      "Number is  [399, 16]\n",
      "Division Result is:  24.9375\n"
     ]
    }
   ],
   "source": [
    "import speech_recognition as sr\n",
    "voice = sr.Recognizer()\n",
    "with sr.Microphone() as source:\n",
    "    print(\"Speak Now - Addition / Subtract / Multiply / Division with Two Numbers\")\n",
    "    print(\"Ex - Add 5 And 3\")\n",
    "    audio = voice.listen(source)\n",
    "    try:\n",
    "        text = voice.recognize_google(audio)\n",
    "        print(\"You Speak: \",text)\n",
    "    except:\n",
    "        print(\"Voice is not clear.\")\n",
    "res = [int(i) for i in text.split() if i.isdigit()]\n",
    "print(\"Number is \",res)\n",
    "n1 = int(res[0])\n",
    "n2 = int(res[1])\n",
    "if \"addition\" in text or \"Addition\" in text:\n",
    "    n = n1+n2\n",
    "    print(\"Addition Result is: \",n)\n",
    "if \"subtract\" in text or \"Subtract\" in text:\n",
    "    n = n1-n2\n",
    "    print(\"Subtraction Result is: \",n)\n",
    "if \"multiply\" in text or \"Multiply\" in text:\n",
    "    n = n1*n2\n",
    "    print(\"Multiplication Result is: \",n)\n",
    "if \"division\" in text or \"Division\" in text:\n",
    "    n = n1/n2\n",
    "    print(\"Division Result is: \",n)"
   ]
  },
  {
   "cell_type": "code",
   "execution_count": 3,
   "metadata": {},
   "outputs": [
    {
     "name": "stdout",
     "output_type": "stream",
     "text": [
      "What do you want to search\n",
      "\n",
      "opening: Assam Engineering college faculty of Electronics and Telecommunications\n"
     ]
    },
    {
     "data": {
      "text/plain": [
       "True"
      ]
     },
     "execution_count": 3,
     "metadata": {},
     "output_type": "execute_result"
    }
   ],
   "source": [
    "import speech_recognition as sr\n",
    "import webbrowser\n",
    "\n",
    "r = sr.Recognizer()\n",
    "\n",
    "with sr.Microphone() as source:\n",
    "    print(\"What do you want to search\\n\")\n",
    "    audio = r.listen(source)\n",
    "\n",
    "print('opening: ' + r.recognize_google(audio))\n",
    "\n",
    "p = r.recognize_google(audio)\n",
    "webbrowser.open(p)"
   ]
  },
  {
   "cell_type": "code",
   "execution_count": null,
   "metadata": {},
   "outputs": [],
   "source": []
  },
  {
   "cell_type": "code",
   "execution_count": null,
   "metadata": {},
   "outputs": [],
   "source": []
  },
  {
   "cell_type": "code",
   "execution_count": null,
   "metadata": {},
   "outputs": [],
   "source": []
  }
 ],
 "metadata": {
  "kernelspec": {
   "display_name": "Python 3",
   "language": "python",
   "name": "python3"
  },
  "language_info": {
   "codemirror_mode": {
    "name": "ipython",
    "version": 3
   },
   "file_extension": ".py",
   "mimetype": "text/x-python",
   "name": "python",
   "nbconvert_exporter": "python",
   "pygments_lexer": "ipython3",
   "version": "3.7.6"
  }
 },
 "nbformat": 4,
 "nbformat_minor": 2
}
